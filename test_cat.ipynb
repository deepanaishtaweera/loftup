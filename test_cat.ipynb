{
 "cells": [
  {
   "cell_type": "code",
   "execution_count": 6,
   "id": "a785a080",
   "metadata": {},
   "outputs": [],
   "source": [
    "dataset_dir = \"/root/repos/vlmaps/data/CAT\"\n",
    "dataset_sections = [\"Brown_Field\", \"Main_Trail\", \"mixed\", \"Power_Line\"]\n",
    "dataset_templates_img = [r\"img_(\\d+)\\.png\", r\"img_(\\d+)\\.png\", r\"img_pln_(\\d+)\\.png\", r\"img_pln_(\\d+)\\.png\"]\n",
    "dataset_templates_anno = [r\"mask_(\\d+)\\.png\", r\"mask_(\\d+)\\.png\", r\"anno_pln_(\\d+)\\.png\", r\"anno_pln_(\\d+)\\.png\"]\n",
    "train_dir = \"Train\"\n",
    "test_dir = \"Test\"\n",
    "\n",
    "from PIL import Image\n",
    "import os\n",
    "import re\n",
    "from IPython.display import display\n",
    "\n",
    "from tqdm import tqdm"
   ]
  },
  {
   "cell_type": "code",
   "execution_count": 14,
   "id": "49618dec",
   "metadata": {},
   "outputs": [],
   "source": [
    "CLASS_COLORS = {\n",
    "    \"Background\": (0, 0, 0),  # Black\n",
    "    \"Sedan\": (0, 0, 255),  # Blue\n",
    "    \"Pickup\": (0, 255, 0),  # Green  \n",
    "    \"Offroad\": (255, 0, 0),  # Red\n",
    "}"
   ]
  },
  {
   "cell_type": "code",
   "execution_count": 15,
   "id": "68f48ebc",
   "metadata": {},
   "outputs": [],
   "source": [
    "import rerun as rr\n",
    "import time\n",
    "rr.init(\"cat_dataset_all\", recording_id=\"cat_dataset_all\")\n",
    "current_time = time.strftime(\"%Y%m%d_%H%M%S\")\n",
    "rr.save(f\"/root/repos/vlmaps/data/CAT/rerun/cat_dataset_{current_time}.rrd\")\n"
   ]
  },
  {
   "cell_type": "code",
   "execution_count": null,
   "id": "01af47c6",
   "metadata": {},
   "outputs": [],
   "source": [
    "# Assign a label and color to each class\n",
    "labels_mapping = [\n",
    "    rr.AnnotationInfo(id=i, label=label, color=CLASS_COLORS[label])\n",
    "    for i, label in enumerate(CLASS_COLORS.keys())\n",
    "]\n",
    "rr.log(\"cat_dataset\", rr.AnnotationContext(labels_mapping), static=True)"
   ]
  },
  {
   "cell_type": "code",
   "execution_count": 17,
   "id": "f5599faf",
   "metadata": {},
   "outputs": [
    {
     "name": "stdout",
     "output_type": "stream",
     "text": [
      "###### Processing Brown_Field\n",
      "## Processing Train\n",
      "Number of images:  140\n",
      "Number of annotations:  140\n"
     ]
    },
    {
     "name": "stderr",
     "output_type": "stream",
     "text": [
      "100%|██████████| 140/140 [00:03<00:00, 45.59it/s]\n",
      "100%|██████████| 140/140 [00:00<00:00, 384.22it/s]\n"
     ]
    },
    {
     "name": "stdout",
     "output_type": "stream",
     "text": [
      "## Processing Test\n",
      "Number of images:  60\n",
      "Number of annotations:  60\n"
     ]
    },
    {
     "name": "stderr",
     "output_type": "stream",
     "text": [
      "100%|██████████| 60/60 [00:01<00:00, 47.59it/s]\n",
      "100%|██████████| 60/60 [00:00<00:00, 382.17it/s]\n"
     ]
    },
    {
     "name": "stdout",
     "output_type": "stream",
     "text": [
      "--------------------------------\n",
      "\n",
      "###### Processing Main_Trail\n",
      "## Processing Train\n",
      "Number of images:  133\n",
      "Number of annotations:  133\n"
     ]
    },
    {
     "name": "stderr",
     "output_type": "stream",
     "text": [
      "100%|██████████| 133/133 [00:02<00:00, 59.69it/s]\n",
      "100%|██████████| 133/133 [00:00<00:00, 414.09it/s]\n"
     ]
    },
    {
     "name": "stdout",
     "output_type": "stream",
     "text": [
      "## Processing Test\n",
      "Number of images:  57\n",
      "Number of annotations:  57\n"
     ]
    },
    {
     "name": "stderr",
     "output_type": "stream",
     "text": [
      "100%|██████████| 57/57 [00:00<00:00, 60.07it/s]\n",
      "100%|██████████| 57/57 [00:00<00:00, 412.16it/s]\n"
     ]
    },
    {
     "name": "stdout",
     "output_type": "stream",
     "text": [
      "--------------------------------\n",
      "\n",
      "###### Processing mixed\n",
      "## Processing Train\n",
      "Number of images:  925\n",
      "Number of annotations:  925\n"
     ]
    },
    {
     "name": "stderr",
     "output_type": "stream",
     "text": [
      "100%|██████████| 925/925 [00:10<00:00, 91.17it/s]\n",
      "100%|██████████| 925/925 [00:01<00:00, 561.22it/s]\n"
     ]
    },
    {
     "name": "stdout",
     "output_type": "stream",
     "text": [
      "## Processing Test\n",
      "Number of images:  397\n",
      "Number of annotations:  397\n"
     ]
    },
    {
     "name": "stderr",
     "output_type": "stream",
     "text": [
      "100%|██████████| 397/397 [00:04<00:00, 88.78it/s]\n",
      "100%|██████████| 397/397 [00:00<00:00, 557.11it/s]\n"
     ]
    },
    {
     "name": "stdout",
     "output_type": "stream",
     "text": [
      "--------------------------------\n",
      "\n",
      "###### Processing Power_Line\n",
      "## Processing Train\n",
      "Number of images:  925\n",
      "Number of annotations:  925\n"
     ]
    },
    {
     "name": "stderr",
     "output_type": "stream",
     "text": [
      "100%|██████████| 925/925 [00:10<00:00, 88.55it/s]\n",
      "100%|██████████| 925/925 [00:01<00:00, 563.84it/s]\n"
     ]
    },
    {
     "name": "stdout",
     "output_type": "stream",
     "text": [
      "## Processing Test\n",
      "Number of images:  397\n",
      "Number of annotations:  397\n"
     ]
    },
    {
     "name": "stderr",
     "output_type": "stream",
     "text": [
      "100%|██████████| 397/397 [00:04<00:00, 92.01it/s]\n",
      "100%|██████████| 397/397 [00:00<00:00, 509.38it/s]"
     ]
    },
    {
     "name": "stdout",
     "output_type": "stream",
     "text": [
      "--------------------------------\n",
      "\n"
     ]
    },
    {
     "name": "stderr",
     "output_type": "stream",
     "text": [
      "\n"
     ]
    }
   ],
   "source": [
    "# iterate over all train, test, and dataset_sections\n",
    "\n",
    "for dataset_idx, dataset_section in enumerate(dataset_sections):\n",
    "    print(f\"###### Processing {dataset_section}\")\n",
    "    for sub_dir in [train_dir, test_dir]:\n",
    "        print(f\"## Processing {sub_dir}\")\n",
    "        int_map_dir = dataset_dir + \"/\" + dataset_section + \"/\" + sub_dir + \"/annos/int_maps/\"\n",
    "        raw_imgs_dir = dataset_dir + \"/\" + dataset_section + \"/\" + sub_dir + \"/imgs/\"\n",
    "\n",
    "        img_template = re.compile(dataset_templates_img[dataset_idx])\n",
    "        anno_template = re.compile(dataset_templates_anno[dataset_idx])\n",
    "\n",
    "        # find all the files with the template in the raw_imgs_dir\n",
    "        img_files = [f for f in os.listdir(raw_imgs_dir) if img_template.match(f)]\n",
    "        anno_files = [f for f in os.listdir(int_map_dir) if anno_template.match(f)]\n",
    "\n",
    "        # print the number of files\n",
    "        print(\"Number of images: \", len(img_files))\n",
    "        print(\"Number of annotations: \", len(anno_files))\n",
    "\n",
    "        for file in tqdm(img_files):\n",
    "            img_path = raw_imgs_dir + file\n",
    "            img = Image.open(img_path)\n",
    "            idx = re.match(img_template, file).group(1) # img_pln_1.png\n",
    "            rr.set_time(timeline=\"frame\", sequence=int(idx))\n",
    "            rr.log(f\"cat_dataset/{dataset_section}/{sub_dir}/imgs\", rr.Image(img))\n",
    "\n",
    "        for file in tqdm(anno_files):\n",
    "            anno_path = int_map_dir + file\n",
    "            anno = Image.open(anno_path)\n",
    "            idx = re.match(anno_template, file).group(1) # anno_pln_1.png\n",
    "            rr.set_time(timeline=\"frame\", sequence=int(idx))\n",
    "            rr.log(f\"cat_dataset/{dataset_section}/{sub_dir}/anno\", rr.SegmentationImage(anno))\n",
    "    print(\"--------------------------------\\n\")\n",
    "        "
   ]
  },
  {
   "cell_type": "markdown",
   "id": "b2cb91d5",
   "metadata": {},
   "source": [
    "---------"
   ]
  },
  {
   "cell_type": "code",
   "execution_count": 5,
   "id": "35d6866c",
   "metadata": {},
   "outputs": [
    {
     "name": "stderr",
     "output_type": "stream",
     "text": [
      "100%|██████████| 623/623 [00:06<00:00, 94.03it/s]\n"
     ]
    }
   ],
   "source": [
    "for file in tqdm(img_files):\n",
    "    img_path = raw_imgs_dir + file\n",
    "    img = Image.open(img_path)\n",
    "    idx = re.match(img_template, file).group(1) # img_pln_1.png\n",
    "    rr.set_time(timeline=\"frame\", sequence=int(idx))\n",
    "    rr.log(f\"cat_dataset/{dataset_section_selection}/imgs\", rr.Image(img))"
   ]
  },
  {
   "cell_type": "code",
   "execution_count": 8,
   "metadata": {},
   "outputs": [
    {
     "name": "stderr",
     "output_type": "stream",
     "text": [
      "100%|██████████| 623/623 [00:01<00:00, 558.78it/s]\n"
     ]
    }
   ],
   "source": [
    "for file in tqdm(anno_files):\n",
    "    anno_path = int_map_dir + file\n",
    "    anno = Image.open(anno_path)\n",
    "    idx = re.match(anno_template, file).group(1) # anno_pln_1.png\n",
    "    rr.set_time(timeline=\"frame\", sequence=int(idx))\n",
    "    rr.log(f\"cat_dataset/{dataset_section_selection}/anno\", rr.SegmentationImage(anno))"
   ]
  }
 ],
 "metadata": {
  "kernelspec": {
   "display_name": ".loftup",
   "language": "python",
   "name": "python3"
  },
  "language_info": {
   "codemirror_mode": {
    "name": "ipython",
    "version": 3
   },
   "file_extension": ".py",
   "mimetype": "text/x-python",
   "name": "python",
   "nbconvert_exporter": "python",
   "pygments_lexer": "ipython3",
   "version": "3.10.18"
  }
 },
 "nbformat": 4,
 "nbformat_minor": 5
}
