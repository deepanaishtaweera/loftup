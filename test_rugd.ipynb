{
 "cells": [
  {
   "cell_type": "code",
   "execution_count": 24,
   "id": "7b1572f1",
   "metadata": {},
   "outputs": [],
   "source": [
    "from PIL import Image\n",
    "import os\n",
    "import re\n",
    "from IPython.display import display\n",
    "import json\n",
    "import numpy as np\n",
    "from tqdm import tqdm"
   ]
  },
  {
   "cell_type": "code",
   "execution_count": 26,
   "id": "4a552371",
   "metadata": {},
   "outputs": [],
   "source": [
    "class_annotations_file = \"/root/repos/vlmaps/data/rugd/RUGD_annotations/RUGD_annotation-colormap.txt\"\n",
    "with open(class_annotations_file, \"r\") as f:\n",
    "    class_annotations = f.readlines()\n",
    "\n",
    "CLASS_COLORS = {}\n",
    "for line in class_annotations:\n",
    "    idx, class_name, *color = line.strip().split()\n",
    "    CLASS_COLORS[class_name] = [int(c) for c in color]\n",
    "\n",
    "COLOR_TO_CLASS_IDX = {tuple(CLASS_COLORS[k]): idx for idx, k in enumerate(CLASS_COLORS.keys())}"
   ]
  },
  {
   "cell_type": "code",
   "execution_count": 23,
   "id": "ae567e90",
   "metadata": {},
   "outputs": [],
   "source": [
    "import rerun as rr\n",
    "import time\n",
    "rr.init(\"rugd_trail\", recording_id=\"rugd_trail\")\n",
    "current_time = time.strftime(\"%Y%m%d_%H%M%S\")\n",
    "rr.save(f\"/root/repos/vlmaps/data/rugd/rerun/rugd_{current_time}.rrd\")\n",
    "\n",
    "# Assign a label and color to each class\n",
    "labels_mapping = [\n",
    "    rr.AnnotationInfo(id=i, label=label, color=CLASS_COLORS[label])\n",
    "    for i, label in enumerate(CLASS_COLORS.keys())\n",
    "]\n",
    "rr.log(\"rugd_trail\", rr.AnnotationContext(labels_mapping), static=True)"
   ]
  },
  {
   "cell_type": "code",
   "execution_count": 30,
   "id": "ea395f7e",
   "metadata": {},
   "outputs": [],
   "source": [
    "# Pre-compute the entire lookup table once\n",
    "def create_color_lookup_table():\n",
    "    # Create a 256x256x256 lookup table\n",
    "    lookup = np.zeros((256, 256, 256), dtype=np.int32)\n",
    "    \n",
    "    for class_name, color in CLASS_COLORS.items():\n",
    "        class_idx = list(CLASS_COLORS.keys()).index(class_name)\n",
    "        lookup[color[0], color[1], color[2]] = class_idx\n",
    "    \n",
    "    return lookup\n",
    "color_lookup = create_color_lookup_table()"
   ]
  },
  {
   "cell_type": "code",
   "execution_count": 31,
   "id": "82fa9cb7",
   "metadata": {},
   "outputs": [
    {
     "name": "stdout",
     "output_type": "stream",
     "text": [
      "####### Processing trail-15\n"
     ]
    },
    {
     "name": "stderr",
     "output_type": "stream",
     "text": [
      "Processing images and annotations: 324it [00:08, 38.51it/s]\n"
     ]
    }
   ],
   "source": [
    "trail_datasets = [\"trail\"] + [\"trail-\" + str(i) for i in range(3, 8)] + [\"trail-\" + str(i) for i in range(9, 16)]\n",
    "trail_datasets = [\"trail-15\"]\n",
    "\n",
    "img_dataset_dir = \"/root/repos/vlmaps/data/rugd/RUGD_frames-with-annotations\"\n",
    "anno_dataset_dir = \"/root/repos/vlmaps/data/rugd/RUGD_annotations\"\n",
    "\n",
    "for trail_dataset in trail_datasets:\n",
    "    print(f\"####### Processing {trail_dataset}\")\n",
    "    img_dir = os.path.join(img_dataset_dir, trail_dataset)\n",
    "    anno_dir = os.path.join(anno_dataset_dir, trail_dataset)\n",
    "\n",
    "    img_files = [f for f in os.listdir(img_dir) if f.endswith('.png')]\n",
    "    anno_files = [f for f in os.listdir(anno_dir) if f.endswith('.png')]\n",
    "\n",
    "    for img_file, anno_file in tqdm(zip(img_files, anno_files), desc=\"Processing images and annotations\"):\n",
    "        pattern = f\"{trail_dataset}_(\\\\d+)\\\\.png\"\n",
    "        match = re.match(pattern, img_file)\n",
    "        if not match:\n",
    "            print(f\"Warning: Filename {img_file} does not match expected pattern\")\n",
    "            continue\n",
    "        idx = match.group(1)\n",
    "        rr.set_time(timeline=\"frame\", sequence=int(idx))\n",
    "        img_path = os.path.join(img_dir, img_file)\n",
    "        anno_path = os.path.join(anno_dir, anno_file)\n",
    "\n",
    "        img = Image.open(img_path)\n",
    "        anno = Image.open(anno_path)\n",
    "\n",
    "        anno_array = np.array(anno)\n",
    "\n",
    "        seg_map = color_lookup[anno_array[:, :, 0], anno_array[:, :, 1], anno_array[:, :, 2]]\n",
    "\n",
    "        rr.log(f\"rugd_trail/{trail_dataset}/img\", rr.Image(img))\n",
    "        rr.log(f\"rugd_trail/{trail_dataset}/anno\", rr.SegmentationImage(seg_map))"
   ]
  }
 ],
 "metadata": {
  "kernelspec": {
   "display_name": ".loftup",
   "language": "python",
   "name": "python3"
  },
  "language_info": {
   "codemirror_mode": {
    "name": "ipython",
    "version": 3
   },
   "file_extension": ".py",
   "mimetype": "text/x-python",
   "name": "python",
   "nbconvert_exporter": "python",
   "pygments_lexer": "ipython3",
   "version": "3.10.18"
  }
 },
 "nbformat": 4,
 "nbformat_minor": 5
}
